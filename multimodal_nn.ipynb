{
 "cells": [
  {
   "cell_type": "code",
   "id": "initial_id",
   "metadata": {
    "collapsed": true
   },
   "source": [
    "import numpy as np\n",
    "from tensorflow.keras.layers import Embedding, LSTM, Conv2D, MaxPooling2D, Flatten, Dense, Input, concatenate\n",
    "from tensorflow.keras.models import Model"
   ],
   "outputs": [],
   "execution_count": null
  },
  {
   "metadata": {},
   "cell_type": "code",
   "source": [
    "# Define the text input\n",
    "text_input = Input(shape=(100,), name='text_input')\n",
    "x1 = Embedding(input_dim=10000, output_dim=128)(text_input)\n",
    "x1 = LSTM(64)(x1)"
   ],
   "id": "8be6b3fe8746048",
   "outputs": [],
   "execution_count": null
  },
  {
   "metadata": {},
   "cell_type": "code",
   "source": [
    "# Define the image input\n",
    "image_input = Input(shape=(64, 64, 3), name='image_input')\n",
    "x2 = Conv2D(32, (3, 3), activation='relu')(image_input)\n",
    "x2 = MaxPooling2D((2, 2))(x2)\n",
    "x2 = Conv2D(64, (3, 3), activation='relu')(x2)\n",
    "x2 = MaxPooling2D((2, 2))(x2)\n",
    "x2 = Flatten()(x2)\n",
    "x2 = Dense(64, activation='relu')(x2)"
   ],
   "id": "4f9ea4fb20af17c1",
   "outputs": [],
   "execution_count": null
  },
  {
   "metadata": {},
   "cell_type": "code",
   "source": [
    "# Combine the outputs of the two branches\n",
    "combined = concatenate([x1, x2])\n",
    "\n",
    "# Add a final dense layer for classification\n",
    "output = Dense(1, activation='sigmoid')(combined)\n",
    "\n",
    "# Create the model\n",
    "model = Model(inputs=[text_input, image_input], outputs=output)"
   ],
   "id": "1b03e75d930e8ad2",
   "outputs": [],
   "execution_count": null
  },
  {
   "metadata": {},
   "cell_type": "code",
   "source": "model.compile(optimizer='adam', loss='binary_crossentropy', metrics=['accuracy'])",
   "id": "baf82dffc0e2ab32",
   "outputs": [],
   "execution_count": null
  },
  {
   "metadata": {},
   "cell_type": "code",
   "source": "model.summary()",
   "id": "c56f592f732f73f8",
   "outputs": [],
   "execution_count": null
  },
  {
   "metadata": {},
   "cell_type": "code",
   "source": [
    "text_data = np.random.randint(1, 10000, size=(1000, 100))  # 1000 samples, each of length 100\n",
    "image_data = np.random.random((1000, 64, 64, 3))  # 1000 samples of 64x64 RGB images\n",
    "labels = np.random.randint(0, 2, size=(1000, 1))  # Binary labels"
   ],
   "id": "11bf3b2cc15a2897",
   "outputs": [],
   "execution_count": null
  },
  {
   "metadata": {},
   "cell_type": "code",
   "source": "model.fit([text_data, image_data], labels, epochs=10, batch_size=32)",
   "id": "1adf95945ae7b1ea",
   "outputs": [],
   "execution_count": null
  },
  {
   "metadata": {},
   "cell_type": "code",
   "source": "",
   "id": "754e53690f5fee67",
   "outputs": [],
   "execution_count": null
  }
 ],
 "metadata": {
  "kernelspec": {
   "display_name": "Python 3",
   "language": "python",
   "name": "python3"
  },
  "language_info": {
   "codemirror_mode": {
    "name": "ipython",
    "version": 2
   },
   "file_extension": ".py",
   "mimetype": "text/x-python",
   "name": "python",
   "nbconvert_exporter": "python",
   "pygments_lexer": "ipython2",
   "version": "2.7.6"
  }
 },
 "nbformat": 4,
 "nbformat_minor": 5
}
