{
 "cells": [
  {
   "cell_type": "markdown",
   "metadata": {},
   "source": [
    "# Contrastive Learning\n",
    "\n",
    "This example demonstrates how to implement a Contrastive Learning Siamese Network using Contrastive Loss to determine whether a pair of images are similar. Contrastive Loss was introduced by Yann Le Cunn et al. in the paper [\"Dimensionality Reduction by Learning an Invariant Mapping.\"](http://yann.lecun.com/exdb/publis/pdf/hadsell-chopra-lecun-06.pdf).\n",
    "\n",
    "<img src='images/siamese-network.png' alt='Siamese Network' width=\"1000\">\n"
   ]
  },
  {
   "cell_type": "code",
   "metadata": {},
   "source": [
    "import os\n",
    "\n",
    "os.environ[\"KERAS_BACKEND\"] = \"tensorflow\"\n",
    "import keras"
   ],
   "outputs": [],
   "execution_count": null
  },
  {
   "cell_type": "markdown",
   "metadata": {},
   "source": [
    "Let's start by loading the dataset:\n"
   ]
  },
  {
   "cell_type": "code",
   "metadata": {},
   "source": [
    "from keras import datasets\n",
    "\n",
    "(X_train, y_train), (X_test, y_test) = datasets.mnist.load_data()\n",
    "\n",
    "print(\"X_train shape:\", X_train.shape)\n",
    "print(\"y_train shape:\", y_train.shape)"
   ],
   "outputs": [],
   "execution_count": null
  },
  {
   "cell_type": "markdown",
   "metadata": {},
   "source": [
    "Let's now display some of the images with their labels:\n"
   ]
  },
  {
   "cell_type": "code",
   "metadata": {},
   "source": [
    "import matplotlib.pyplot as plt\n",
    "\n",
    "\n",
    "for i in range(10):\n",
    "    plt.subplot(1, 10, i + 1)\n",
    "    plt.imshow(X_train[i], cmap=\"gray\")\n",
    "    plt.title(y_train[i])\n",
    "    plt.axis(\"off\")"
   ],
   "outputs": [],
   "execution_count": null
  },
  {
   "cell_type": "markdown",
   "metadata": {},
   "source": [
    "We want to create a neural network that receives every pixel as an input. Let's reshape the data to have a single array with `28 x 28 = 784` pixels.\n"
   ]
  },
  {
   "cell_type": "code",
   "metadata": {},
   "source": [
    "X_train = X_train.reshape(-1, 784)\n",
    "X_test = X_test.reshape(-1, 784)\n",
    "\n",
    "print(\"X_train shape:\", X_train.shape)\n",
    "print(\"X_test shape:\", X_test.shape)"
   ],
   "outputs": [],
   "execution_count": null
  },
  {
   "attachments": {
    "image.png": {
     "image/png": "[encoded data removed]"
    }
   },
   "cell_type": "markdown",
   "metadata": {},
   "source": [
    "We now want to normalize the pixel values to a range between 0 and 1 (instead of 0 to 255). We can use the min-max normalization formula for this:\n",
    "\n",
    "<img src='images/img.png' alt='Normalization' width=\"1000\">\n",
    "\n",
    "Here is what the code to implement this formula would look like:\n",
    "\n",
    "```\n",
    "X_train = (X_train - X_train.min()) / (X_train.max() - X_train.min())\n",
    "```\n",
    "\n",
    "For an image, `X_train.min()` is `0` and `X_train.max()` is `255`, so we can simplify the formula to:\n",
    "\n",
    "```\n",
    "X_train = X_train / 255.0\n",
    "```\n"
   ]
  },
  {
   "cell_type": "code",
   "metadata": {},
   "source": [
    "X_train = X_train / 255.0\n",
    "X_test = X_test / 255.0"
   ],
   "outputs": [],
   "execution_count": null
  },
  {
   "cell_type": "markdown",
   "metadata": {},
   "source": [
    "We'll train a Siamese Network using positive and negative pairs of images. A positive pair consists of two images representing the same digit, while a negative pair consists of two images representing different digits.\n"
   ]
  },
  {
   "cell_type": "code",
   "metadata": {},
   "source": [
    "import numpy as np\n",
    "\n",
    "\n",
    "def generate_pairs(X, y):\n",
    "    \"\"\"\n",
    "    Creates a collection of positive and negative image pairs from the supplied\n",
    "    array of images.\n",
    "\n",
    "    A positive pair contains two images of the same digit. A negative pair contains\n",
    "    two images representing different digits.\n",
    "    \"\"\"\n",
    "\n",
    "    X_pairs = []\n",
    "    y_pairs = []\n",
    "\n",
    "    for i in range(len(X)):\n",
    "        digit = y[i]\n",
    "\n",
    "        # Find a random image representing the same digit.\n",
    "        # This is a positive pair.\n",
    "        positive_digit_index = np.random.choice(np.where(y == digit)[0])\n",
    "\n",
    "        # Add the pair of images to the list.\n",
    "        X_pairs.append([X[i], X[positive_digit_index]])\n",
    "\n",
    "        # Since this is a positive pair, the ground truth label is 0.\n",
    "        # The distance between images representing the same digit should be small,\n",
    "        # and that's why we use 0 as the label.\n",
    "        y_pairs.append([0])\n",
    "\n",
    "        # Find a random image representing a different digit.\n",
    "        # This is a negative pair.\n",
    "        negative_digit_index = np.random.choice(np.where(y != digit)[0])\n",
    "\n",
    "        # Add the pair of images to the list.\n",
    "        X_pairs.append([X[i], X[negative_digit_index]])\n",
    "\n",
    "        # Since this is a negative pair, the ground truth label is 1.\n",
    "        # The distance between images representing different digits should be large,\n",
    "        # and that's why we use 1 as the label.\n",
    "        y_pairs.append([1])\n",
    "\n",
    "    indices = np.arange(len(X_pairs))\n",
    "    np.random.shuffle(indices)\n",
    "\n",
    "    return np.array(X_pairs)[indices], np.array(y_pairs)[indices]"
   ],
   "outputs": [],
   "execution_count": null
  },
  {
   "cell_type": "markdown",
   "metadata": {},
   "source": [
    "Let's generate the pairs for training and testing the model:\n"
   ]
  },
  {
   "cell_type": "code",
   "metadata": {},
   "source": [
    "X_train_pairs, y_train_pairs = generate_pairs(X_train, y_train)\n",
    "X_test_pairs, y_test_pairs = generate_pairs(X_test, y_test)\n",
    "\n",
    "print(\"X_train_pairs shape:\", X_train_pairs.shape)\n",
    "print(\"X_test_pairs shape:\", X_test_pairs.shape)"
   ],
   "outputs": [],
   "execution_count": null
  },
  {
   "cell_type": "markdown",
   "metadata": {},
   "source": [
    "Let's display some of these pairs to ensure they were generated correctly:\n"
   ]
  },
  {
   "cell_type": "code",
   "metadata": {},
   "source": [
    "def display_pairs(X, y, correct=None):\n",
    "    \"\"\"\n",
    "    Displays the first ten pairs from the supplied array.\n",
    "\n",
    "    Args:\n",
    "        - X: An array containing the image pairs.\n",
    "        - y: An array containing the corresponding label (0 if both\n",
    "            pairs are the same, and 1 if both pairs are different.)\n",
    "        - correct (optional): An array of boolean values indicating whether\n",
    "            the supplied labels correctly represent the image pairs.\n",
    "    \"\"\"\n",
    "\n",
    "    n = 10\n",
    "\n",
    "    plt.figure(figsize=(20, 6))\n",
    "    for i, (image1, image2) in enumerate(zip(X[:n, 0], X[:n, 1])):\n",
    "        label = int(y[:n][i][0])\n",
    "\n",
    "        text = \"Positive\" if label == 0 else \"Negative\"\n",
    "        color = \"silver\"\n",
    "\n",
    "        # If we know whether the supplied labels are correct, let's change the\n",
    "        # text and the face color of the annotation on the chart.\n",
    "        if correct is not None:\n",
    "            text = \"Same\" if label == 0 else \"Different\"\n",
    "            color = \"mediumseagreen\" if correct[:n][i][0] else \"indianred\"\n",
    "\n",
    "        ax = plt.subplot(3, n, i + 1)\n",
    "        ax.text(\n",
    "            1,\n",
    "            -3,\n",
    "            text,\n",
    "            style=\"italic\",\n",
    "            bbox={\"facecolor\": color, \"pad\": 4},\n",
    "        )\n",
    "\n",
    "        plt.imshow(image1.reshape(28, 28), cmap=\"gray\")\n",
    "        plt.axis(\"off\")\n",
    "\n",
    "        ax = plt.subplot(3, n, i + 1 + n)\n",
    "        plt.imshow(image2.reshape(28, 28), cmap=\"gray\")\n",
    "        plt.axis(\"off\")\n",
    "\n",
    "    plt.show()\n",
    "\n",
    "\n",
    "display_pairs(X_train_pairs, y_train_pairs)"
   ],
   "outputs": [],
   "execution_count": null
  },
  {
   "cell_type": "markdown",
   "metadata": {},
   "source": [
    "It's time to start building the Siamese Network. Let's first define the inputs that will receive the pair of images:\n"
   ]
  },
  {
   "cell_type": "code",
   "metadata": {},
   "source": [
    "from keras import Input\n",
    "\n",
    "input1 = Input(shape=(784,))\n",
    "input2 = Input(shape=(784,))"
   ],
   "outputs": [],
   "execution_count": null
  },
  {
   "cell_type": "markdown",
   "metadata": {},
   "source": [
    "Then, we can build the body of the Siamese Network. This network will be responsible of generating the embeddings for each of the input images:\n"
   ]
  },
  {
   "cell_type": "code",
   "metadata": {},
   "source": [
    "from keras.layers import Dense\n",
    "from keras.models import Sequential\n",
    "\n",
    "network = Sequential(\n",
    "    [\n",
    "        Input(shape=(784,)),\n",
    "        Dense(512, activation=\"relu\"),\n",
    "        Dense(256, activation=\"relu\"),\n",
    "        Dense(128, activation=None),\n",
    "    ]\n",
    ")"
   ],
   "outputs": [],
   "execution_count": null
  },
  {
   "cell_type": "markdown",
   "metadata": {},
   "source": [
    "Our network will have two branches, each one responsible for processing one of the images in the pair. We want to share the same weights between the branches, so we'll use the same network instance:\n"
   ]
  },
  {
   "cell_type": "code",
   "metadata": {},
   "source": [
    "twin1 = network(input1)\n",
    "twin2 = network(input2)"
   ],
   "outputs": [],
   "execution_count": null
  },
  {
   "cell_type": "markdown",
   "metadata": {},
   "source": [
    "The output of the Siamese Network will be the distance between the embeddings of the two images. To do this, we can use a Lambda layer to calculate the Euclidean distance between the embeddings:\n"
   ]
  },
  {
   "cell_type": "code",
   "metadata": {},
   "source": [
    "from keras.layers import Lambda\n",
    "from keras.ops import norm\n",
    "\n",
    "\n",
    "def euclidean_distance(twins):\n",
    "    \"\"\"Compute the euclidean distance (norm) of the output of\n",
    "    the twin networks.\n",
    "    \"\"\"\n",
    "    twin1_output, twin2_output = twins\n",
    "    return norm(twin1_output - twin2_output, axis=1, keepdims=True)\n",
    "\n",
    "\n",
    "distance = Lambda(euclidean_distance)([twin1, twin2])"
   ],
   "outputs": [],
   "execution_count": null
  },
  {
   "cell_type": "markdown",
   "metadata": {},
   "source": [
    "Let's now set up the model:\n"
   ]
  },
  {
   "cell_type": "code",
   "metadata": {},
   "source": [
    "from keras import Model\n",
    "\n",
    "model = Model(inputs=[input1, input2], outputs=distance)"
   ],
   "outputs": [],
   "execution_count": null
  },
  {
   "cell_type": "markdown",
   "metadata": {},
   "source": [
    "We'll use the Contrastive Loss to train the model. You can find the formula of this loss in the paper [\"Dimensionality Reduction by Learning an Invariant Mapping.\"](http://yann.lecun.com/exdb/publis/pdf/hadsell-chopra-lecun-06.pdf)\n"
   ]
  },
  {
   "cell_type": "code",
   "metadata": {},
   "source": [
    "from keras.ops import cast, maximum, square\n",
    "\n",
    "\n",
    "def contrastive_loss(y, d):\n",
    "    \"\"\"\n",
    "    Compute the contrastive loss introduced by Yann LeCun et al. in the paper\n",
    "    \"Dimensionality Reduction by Learning an Invariant Mapping.\"\n",
    "    \"\"\"\n",
    "\n",
    "    margin = 1\n",
    "    y = cast(y, d.dtype)\n",
    "\n",
    "    loss = (1 - y) / 2 * square(d) + y / 2 * square(maximum(0.0, margin - d))\n",
    "\n",
    "    return loss"
   ],
   "outputs": [],
   "execution_count": null
  },
  {
   "cell_type": "markdown",
   "metadata": {},
   "source": [
    "Let's compile the model using the Contrastive Loss:\n"
   ]
  },
  {
   "cell_type": "code",
   "metadata": {},
   "source": [
    "from keras.metrics import binary_accuracy\n",
    "\n",
    "model.compile(loss=contrastive_loss, optimizer=\"adam\", metrics=[binary_accuracy])"
   ],
   "outputs": [],
   "execution_count": null
  },
  {
   "cell_type": "markdown",
   "metadata": {},
   "source": [
    "Here is what the model architecture looks like:\n"
   ]
  },
  {
   "cell_type": "code",
   "metadata": {},
   "source": [
    "keras.utils.plot_model(\n",
    "    model, to_file=\"model.png\", show_shapes=True, show_layer_names=False\n",
    ")"
   ],
   "outputs": [],
   "execution_count": null
  },
  {
   "cell_type": "markdown",
   "metadata": {},
   "source": [
    "Let's fit the model:\n"
   ]
  },
  {
   "cell_type": "code",
   "metadata": {},
   "source": [
    "history = model.fit(\n",
    "    x=[X_train_pairs[:, 0], X_train_pairs[:, 1]],\n",
    "    y=y_train_pairs[:],\n",
    "    validation_data=([X_test_pairs[:, 0], X_test_pairs[:, 1]], y_test_pairs[:]),\n",
    "    batch_size=32,\n",
    "    epochs=5,\n",
    ")"
   ],
   "outputs": [],
   "execution_count": null
  },
  {
   "cell_type": "markdown",
   "metadata": {},
   "source": [
    "We can plot the train and validation loss during training:\n"
   ]
  },
  {
   "cell_type": "code",
   "metadata": {},
   "source": [
    "plt.plot(history.history[\"loss\"])\n",
    "plt.plot(history.history[\"val_loss\"])\n",
    "plt.title(\"Training and Validation Loss\")\n",
    "plt.ylabel(\"loss\")\n",
    "plt.xlabel(\"epoch\")\n",
    "plt.legend([\"train\", \"val\"], loc=\"upper right\")\n",
    "plt.show()"
   ],
   "outputs": [],
   "execution_count": null
  },
  {
   "cell_type": "markdown",
   "metadata": {},
   "source": [
    "Let's evaluate the model using the test data and display some of the predictions:\n"
   ]
  },
  {
   "cell_type": "code",
   "metadata": {},
   "source": [
    "predictions = model.predict([X_test_pairs[:, 0], X_test_pairs[:, 1]]) >= 0.5\n",
    "display_pairs(X_test_pairs, predictions, predictions == y_test_pairs)"
   ],
   "outputs": [],
   "execution_count": null
  },
  {
   "cell_type": "markdown",
   "metadata": {},
   "source": [
    "Finally, we can compute the accuracy of the model on the test data:\n"
   ]
  },
  {
   "cell_type": "code",
   "metadata": {},
   "source": [
    "accuracy = keras.metrics.BinaryAccuracy()\n",
    "accuracy.update_state(y_test_pairs, predictions.astype(int))\n",
    "print(f\"Accuracy: {accuracy.result().numpy():.2f}\")"
   ],
   "outputs": [],
   "execution_count": null
  },
  {
   "cell_type": "markdown",
   "metadata": {},
   "source": [
    "These are the different layers of the model we trained:\n"
   ]
  },
  {
   "cell_type": "code",
   "metadata": {},
   "source": [
    "model.layers"
   ],
   "outputs": [],
   "execution_count": null
  },
  {
   "cell_type": "markdown",
   "metadata": {},
   "source": [
    "We can reference the sequential model to generate embeddings for new images:\n"
   ]
  },
  {
   "cell_type": "code",
   "metadata": {},
   "source": [
    "embedding_model = model.layers[2]"
   ],
   "outputs": [],
   "execution_count": null
  },
  {
   "cell_type": "markdown",
   "metadata": {},
   "source": [
    "Let's select two random images representing the digit `3`, and one image representing the digit `7`:\n"
   ]
  },
  {
   "cell_type": "code",
   "metadata": {},
   "source": [
    "digits = np.where(y_test == 3)[0]\n",
    "index1 = np.random.choice(digits)\n",
    "index2 = np.random.choice(digits)\n",
    "index3 = np.random.choice(np.where(y_test == 7)[0])\n",
    "\n",
    "index1, index2, index3"
   ],
   "outputs": [],
   "execution_count": null
  },
  {
   "cell_type": "markdown",
   "metadata": {},
   "source": [
    "We can generate the embeddings for these 3 images:\n"
   ]
  },
  {
   "cell_type": "code",
   "metadata": {},
   "source": [
    "embedding1 = embedding_model.predict(X_test[index1].reshape(1, -1))\n",
    "embedding2 = embedding_model.predict(X_test[index2].reshape(1, -1))\n",
    "embedding3 = embedding_model.predict(X_test[index3].reshape(1, -1))"
   ],
   "outputs": [],
   "execution_count": null
  },
  {
   "cell_type": "markdown",
   "metadata": {},
   "source": [
    "The distance between the embeddings of the two images representing the digit `3` should be really small (close to 0):\n"
   ]
  },
  {
   "cell_type": "code",
   "metadata": {},
   "source": [
    "norm(embedding1 - embedding2).numpy()"
   ],
   "outputs": [],
   "execution_count": null
  },
  {
   "cell_type": "markdown",
   "metadata": {},
   "source": [
    "The distances between the embeddings of the images representing the digit `3` and the image representing the digit `7` should be large (close to 1):\n"
   ]
  },
  {
   "cell_type": "code",
   "metadata": {},
   "source": [
    "norm(embedding1 - embedding3).numpy(), norm(embedding2 - embedding3).numpy()"
   ],
   "outputs": [],
   "execution_count": null
  },
  {
   "cell_type": "code",
   "metadata": {},
   "source": [],
   "outputs": [],
   "execution_count": null
  }
 ],
 "metadata": {
  "kernelspec": {
   "display_name": ".venv",
   "language": "python",
   "name": "python3"
  },
  "language_info": {
   "codemirror_mode": {
    "name": "ipython",
    "version": 3
   },
   "file_extension": ".py",
   "mimetype": "text/x-python",
   "name": "python",
   "nbconvert_exporter": "python",
   "pygments_lexer": "ipython3",
   "version": "3.10.11"
  }
 },
 "nbformat": 4,
 "nbformat_minor": 2
}
