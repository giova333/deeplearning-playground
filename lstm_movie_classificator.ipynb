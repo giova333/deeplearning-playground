{
 "cells": [
  {
   "cell_type": "code",
   "id": "initial_id",
   "metadata": {
    "collapsed": true,
    "ExecuteTime": {
     "end_time": "2024-07-23T20:54:58.369029Z",
     "start_time": "2024-07-23T20:54:58.365872Z"
    }
   },
   "source": [
    "import numpy as np\n",
    "from tensorflow.keras.layers import Embedding, LSTM, Dense\n",
    "from tensorflow.keras.models import Sequential\n",
    "from tensorflow.keras.preprocessing.sequence import pad_sequences\n",
    "from tensorflow.keras.preprocessing.text import Tokenizer"
   ],
   "outputs": [],
   "execution_count": 20
  },
  {
   "metadata": {
    "ExecuteTime": {
     "end_time": "2024-07-23T20:54:59.228813Z",
     "start_time": "2024-07-23T20:54:59.226841Z"
    }
   },
   "cell_type": "code",
   "source": [
    "texts = [\n",
    "    \"I love this movie\",\n",
    "    \"This film was terrible\",\n",
    "    \"I enjoyed the film\",\n",
    "    \"The movie was boring\",\n",
    "    \"What a fantastic film\",\n",
    "    \"I did not like the movie\",\n",
    "    \"Amazing storyline and acting\",\n",
    "    \"Waste of time\",\n",
    "    \"Great direction and plot\",\n",
    "    \"The worst movie I have seen\"\n",
    "]\n",
    "\n",
    "labels = [1, 0, 1, 0, 1, 0, 1, 0, 1, 0]"
   ],
   "id": "b914e025a70972c0",
   "outputs": [],
   "execution_count": 21
  },
  {
   "metadata": {
    "ExecuteTime": {
     "end_time": "2024-07-23T20:54:59.828581Z",
     "start_time": "2024-07-23T20:54:59.826572Z"
    }
   },
   "cell_type": "code",
   "source": [
    "tokenizer = Tokenizer(num_words=1000)\n",
    "tokenizer.fit_on_texts(texts)\n",
    "sequences = tokenizer.texts_to_sequences(texts)"
   ],
   "id": "195de5b8b9cb0126",
   "outputs": [],
   "execution_count": 22
  },
  {
   "metadata": {
    "ExecuteTime": {
     "end_time": "2024-07-23T20:55:00.589040Z",
     "start_time": "2024-07-23T20:55:00.584538Z"
    }
   },
   "cell_type": "code",
   "source": "sequences",
   "id": "1ff045aee03c3adf",
   "outputs": [
    {
     "data": {
      "text/plain": [
       "[[1, 8, 5, 2],\n",
       " [5, 4, 6, 9],\n",
       " [1, 10, 3, 4],\n",
       " [3, 2, 6, 11],\n",
       " [12, 13, 14, 4],\n",
       " [1, 15, 16, 17, 3, 2],\n",
       " [18, 19, 7, 20],\n",
       " [21, 22, 23],\n",
       " [24, 25, 7, 26],\n",
       " [3, 27, 2, 1, 28, 29]]"
      ]
     },
     "execution_count": 23,
     "metadata": {},
     "output_type": "execute_result"
    }
   ],
   "execution_count": 23
  },
  {
   "metadata": {
    "ExecuteTime": {
     "end_time": "2024-07-23T20:55:19.981969Z",
     "start_time": "2024-07-23T20:55:19.978078Z"
    }
   },
   "cell_type": "code",
   "source": [
    "maxlen = 10\n",
    "x_data = pad_sequences(sequences, maxlen=maxlen)"
   ],
   "id": "b1c42e49943a1ffe",
   "outputs": [],
   "execution_count": 24
  },
  {
   "metadata": {
    "ExecuteTime": {
     "end_time": "2024-07-23T20:55:24.229087Z",
     "start_time": "2024-07-23T20:55:24.225242Z"
    }
   },
   "cell_type": "code",
   "source": "x_data",
   "id": "48c894bc6001a49a",
   "outputs": [
    {
     "data": {
      "text/plain": [
       "array([[ 0,  0,  0,  0,  0,  0,  1,  8,  5,  2],\n",
       "       [ 0,  0,  0,  0,  0,  0,  5,  4,  6,  9],\n",
       "       [ 0,  0,  0,  0,  0,  0,  1, 10,  3,  4],\n",
       "       [ 0,  0,  0,  0,  0,  0,  3,  2,  6, 11],\n",
       "       [ 0,  0,  0,  0,  0,  0, 12, 13, 14,  4],\n",
       "       [ 0,  0,  0,  0,  1, 15, 16, 17,  3,  2],\n",
       "       [ 0,  0,  0,  0,  0,  0, 18, 19,  7, 20],\n",
       "       [ 0,  0,  0,  0,  0,  0,  0, 21, 22, 23],\n",
       "       [ 0,  0,  0,  0,  0,  0, 24, 25,  7, 26],\n",
       "       [ 0,  0,  0,  0,  3, 27,  2,  1, 28, 29]], dtype=int32)"
      ]
     },
     "execution_count": 25,
     "metadata": {},
     "output_type": "execute_result"
    }
   ],
   "execution_count": 25
  },
  {
   "metadata": {
    "ExecuteTime": {
     "end_time": "2024-07-23T20:55:27.386965Z",
     "start_time": "2024-07-23T20:55:27.384754Z"
    }
   },
   "cell_type": "code",
   "source": "y_data = np.array(labels)",
   "id": "89ad56231f980af8",
   "outputs": [],
   "execution_count": 26
  },
  {
   "metadata": {
    "ExecuteTime": {
     "end_time": "2024-07-23T20:55:29.225023Z",
     "start_time": "2024-07-23T20:55:29.221838Z"
    }
   },
   "cell_type": "code",
   "source": [
    "train_size = int(len(x_data) * 0.8)\n",
    "x_train, x_test = x_data[:train_size], x_data[train_size:]\n",
    "y_train, y_test = y_data[:train_size], y_data[train_size:]"
   ],
   "id": "a88a2d8a66c5987f",
   "outputs": [],
   "execution_count": 27
  },
  {
   "metadata": {
    "ExecuteTime": {
     "end_time": "2024-07-23T20:55:30.113721Z",
     "start_time": "2024-07-23T20:55:30.106697Z"
    }
   },
   "cell_type": "code",
   "source": [
    "model = Sequential([\n",
    "    Embedding(input_dim=1000, output_dim=64),\n",
    "    LSTM(64),\n",
    "    Dense(1, activation='sigmoid')\n",
    "])"
   ],
   "id": "e39af640b1793317",
   "outputs": [],
   "execution_count": 28
  },
  {
   "metadata": {
    "ExecuteTime": {
     "end_time": "2024-07-23T20:55:30.579149Z",
     "start_time": "2024-07-23T20:55:30.575019Z"
    }
   },
   "cell_type": "code",
   "source": "model.compile(optimizer='adam', loss='binary_crossentropy', metrics=['accuracy'])",
   "id": "1ed60b533763492a",
   "outputs": [],
   "execution_count": 29
  },
  {
   "metadata": {
    "ExecuteTime": {
     "end_time": "2024-07-23T20:55:32.005180Z",
     "start_time": "2024-07-23T20:55:31.097848Z"
    }
   },
   "cell_type": "code",
   "source": "model.fit(x_train, y_train, epochs=10, batch_size=2, validation_split=0.2)",
   "id": "b267c205651e7240",
   "outputs": [
    {
     "name": "stdout",
     "output_type": "stream",
     "text": [
      "Epoch 1/10\n",
      "\u001B[1m3/3\u001B[0m \u001B[32m━━━━━━━━━━━━━━━━━━━━\u001B[0m\u001B[37m\u001B[0m \u001B[1m1s\u001B[0m 46ms/step - accuracy: 0.1458 - loss: 0.6999 - val_accuracy: 0.5000 - val_loss: 0.6929\n",
      "Epoch 2/10\n",
      "\u001B[1m3/3\u001B[0m \u001B[32m━━━━━━━━━━━━━━━━━━━━\u001B[0m\u001B[37m\u001B[0m \u001B[1m0s\u001B[0m 7ms/step - accuracy: 0.5000 - loss: 0.6885 - val_accuracy: 0.5000 - val_loss: 0.6931\n",
      "Epoch 3/10\n",
      "\u001B[1m3/3\u001B[0m \u001B[32m━━━━━━━━━━━━━━━━━━━━\u001B[0m\u001B[37m\u001B[0m \u001B[1m0s\u001B[0m 7ms/step - accuracy: 0.3125 - loss: 0.6905 - val_accuracy: 0.5000 - val_loss: 0.6931\n",
      "Epoch 4/10\n",
      "\u001B[1m3/3\u001B[0m \u001B[32m━━━━━━━━━━━━━━━━━━━━\u001B[0m\u001B[37m\u001B[0m \u001B[1m0s\u001B[0m 7ms/step - accuracy: 1.0000 - loss: 0.6792 - val_accuracy: 0.5000 - val_loss: 0.6935\n",
      "Epoch 5/10\n",
      "\u001B[1m3/3\u001B[0m \u001B[32m━━━━━━━━━━━━━━━━━━━━\u001B[0m\u001B[37m\u001B[0m \u001B[1m0s\u001B[0m 7ms/step - accuracy: 1.0000 - loss: 0.6757 - val_accuracy: 0.5000 - val_loss: 0.6938\n",
      "Epoch 6/10\n",
      "\u001B[1m3/3\u001B[0m \u001B[32m━━━━━━━━━━━━━━━━━━━━\u001B[0m\u001B[37m\u001B[0m \u001B[1m0s\u001B[0m 7ms/step - accuracy: 1.0000 - loss: 0.6705 - val_accuracy: 0.5000 - val_loss: 0.6943\n",
      "Epoch 7/10\n",
      "\u001B[1m3/3\u001B[0m \u001B[32m━━━━━━━━━━━━━━━━━━━━\u001B[0m\u001B[37m\u001B[0m \u001B[1m0s\u001B[0m 7ms/step - accuracy: 1.0000 - loss: 0.6583 - val_accuracy: 0.5000 - val_loss: 0.6952\n",
      "Epoch 8/10\n",
      "\u001B[1m3/3\u001B[0m \u001B[32m━━━━━━━━━━━━━━━━━━━━\u001B[0m\u001B[37m\u001B[0m \u001B[1m0s\u001B[0m 7ms/step - accuracy: 1.0000 - loss: 0.6497 - val_accuracy: 0.5000 - val_loss: 0.6960\n",
      "Epoch 9/10\n",
      "\u001B[1m3/3\u001B[0m \u001B[32m━━━━━━━━━━━━━━━━━━━━\u001B[0m\u001B[37m\u001B[0m \u001B[1m0s\u001B[0m 7ms/step - accuracy: 1.0000 - loss: 0.6433 - val_accuracy: 0.5000 - val_loss: 0.6970\n",
      "Epoch 10/10\n",
      "\u001B[1m3/3\u001B[0m \u001B[32m━━━━━━━━━━━━━━━━━━━━\u001B[0m\u001B[37m\u001B[0m \u001B[1m0s\u001B[0m 7ms/step - accuracy: 1.0000 - loss: 0.6307 - val_accuracy: 0.5000 - val_loss: 0.6986\n"
     ]
    },
    {
     "data": {
      "text/plain": [
       "<keras.src.callbacks.history.History at 0x2805af8f0>"
      ]
     },
     "execution_count": 30,
     "metadata": {},
     "output_type": "execute_result"
    }
   ],
   "execution_count": 30
  },
  {
   "metadata": {
    "ExecuteTime": {
     "end_time": "2024-07-23T20:55:36.564252Z",
     "start_time": "2024-07-23T20:55:36.448519Z"
    }
   },
   "cell_type": "code",
   "source": [
    "test_loss, test_acc = model.evaluate(x_test, y_test)\n",
    "print(f'Test accuracy: {test_acc:.4f}')"
   ],
   "id": "d9d23b1bc4997d97",
   "outputs": [
    {
     "name": "stdout",
     "output_type": "stream",
     "text": [
      "\u001B[1m1/1\u001B[0m \u001B[32m━━━━━━━━━━━━━━━━━━━━\u001B[0m\u001B[37m\u001B[0m \u001B[1m0s\u001B[0m 89ms/step - accuracy: 0.5000 - loss: 0.6955\n",
      "Test accuracy: 0.5000\n"
     ]
    }
   ],
   "execution_count": 31
  },
  {
   "metadata": {
    "ExecuteTime": {
     "end_time": "2024-07-23T20:55:38.013336Z",
     "start_time": "2024-07-23T20:55:37.925596Z"
    }
   },
   "cell_type": "code",
   "source": [
    "predictions = model.predict(x_test)\n",
    "predicted_labels = (predictions > 0.5).astype(int)"
   ],
   "id": "87106c6e8b66fedb",
   "outputs": [
    {
     "name": "stdout",
     "output_type": "stream",
     "text": [
      "\u001B[1m1/1\u001B[0m \u001B[32m━━━━━━━━━━━━━━━━━━━━\u001B[0m\u001B[37m\u001B[0m \u001B[1m0s\u001B[0m 63ms/step\n"
     ]
    }
   ],
   "execution_count": 32
  },
  {
   "metadata": {
    "ExecuteTime": {
     "end_time": "2024-07-23T20:55:39.480173Z",
     "start_time": "2024-07-23T20:55:39.477794Z"
    }
   },
   "cell_type": "code",
   "source": [
    "for i in range(len(x_test)):\n",
    "    print(f\"Sentence: {tokenizer.sequences_to_texts([x_test[i]])[0]}\")\n",
    "    print(f\"True Label: {y_test[i]}, Predicted Label: {predicted_labels[i][0]}\")\n",
    "    print(\"---\")"
   ],
   "id": "8114d5d2104940cd",
   "outputs": [
    {
     "name": "stdout",
     "output_type": "stream",
     "text": [
      "Sentence: great direction and plot\n",
      "True Label: 1, Predicted Label: 1\n",
      "---\n",
      "Sentence: the worst movie i have seen\n",
      "True Label: 0, Predicted Label: 1\n",
      "---\n"
     ]
    }
   ],
   "execution_count": 33
  },
  {
   "metadata": {
    "ExecuteTime": {
     "end_time": "2024-07-23T20:55:41.904911Z",
     "start_time": "2024-07-23T20:55:41.903317Z"
    }
   },
   "cell_type": "code",
   "source": "",
   "id": "48b68da8c4bc26e",
   "outputs": [],
   "execution_count": 33
  }
 ],
 "metadata": {
  "kernelspec": {
   "display_name": "Python 3",
   "language": "python",
   "name": "python3"
  },
  "language_info": {
   "codemirror_mode": {
    "name": "ipython",
    "version": 2
   },
   "file_extension": ".py",
   "mimetype": "text/x-python",
   "name": "python",
   "nbconvert_exporter": "python",
   "pygments_lexer": "ipython2",
   "version": "2.7.6"
  }
 },
 "nbformat": 4,
 "nbformat_minor": 5
}
